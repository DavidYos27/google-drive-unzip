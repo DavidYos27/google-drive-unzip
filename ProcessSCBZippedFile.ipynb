{
  "nbformat": 4,
  "nbformat_minor": 0,
  "metadata": {
    "colab": {
      "provenance": [],
      "toc_visible": true,
      "authorship_tag": "ABX9TyO3jO1e0qUDdvAVWFitAWWt",
      "include_colab_link": true
    },
    "kernelspec": {
      "name": "python3",
      "display_name": "Python 3"
    },
    "language_info": {
      "name": "python"
    }
  },
  "cells": [
    {
      "cell_type": "markdown",
      "metadata": {
        "id": "view-in-github",
        "colab_type": "text"
      },
      "source": [
        "<a href=\"https://colab.research.google.com/github/DavidYos27/google-drive-unzip/blob/main/ProcessSCBZippedFile.ipynb\" target=\"_parent\"><img src=\"https://colab.research.google.com/assets/colab-badge.svg\" alt=\"Open In Colab\"/></a>"
      ]
    },
    {
      "cell_type": "code",
      "source": [
        "import zipfile\n",
        "import os\n",
        "import sys\n",
        "from google.colab import drive\n",
        "\n",
        "# Mount Google Drive (only run once for permission)\n",
        "drive.mount('/content/drive')\n",
        "\n",
        "# Get ZIP file name from Apps Script\n",
        "zip_file_name = sys.argv[1]  # Read dynamic filename from script argument\n",
        "\n",
        "# Define paths\n",
        "zip_path = f\"/content/drive/My Drive/Treasury - SCB Bank Statements/{zip_file_name}\"\n",
        "extract_path = \"/content/drive/My Drive/Treasury - SCB Bank Statements\"\n",
        "\n",
        "password = b\"StraitsX2025\"  # Replace with actual password\n",
        "\n",
        "# Ensure the extraction folder exists\n",
        "os.makedirs(extract_path, exist_ok=True)\n",
        "\n",
        "try:\n",
        "    with zipfile.ZipFile(zip_path, 'r') as zip_ref:\n",
        "        zip_ref.setpassword(password)\n",
        "        zip_ref.extractall(extract_path)\n",
        "    print(f\"✅ Extraction complete! Files saved in: {extract_path}\")\n",
        "except Exception as e:\n",
        "    print(f\"❌ Extraction failed: {e}\")"
      ],
      "metadata": {
        "id": "CKdLs5sb1bJK"
      },
      "execution_count": null,
      "outputs": []
    },
    {
      "cell_type": "code",
      "source": [],
      "metadata": {
        "id": "g60lYQrl26v4"
      },
      "execution_count": null,
      "outputs": []
    }
  ]
}